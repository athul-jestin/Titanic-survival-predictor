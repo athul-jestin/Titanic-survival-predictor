{
 "cells": [
  {
   "cell_type": "code",
   "execution_count": 10,
   "id": "02019444-0170-45a6-97a8-c1376256c391",
   "metadata": {},
   "outputs": [],
   "source": [
    "import streamlit as st\n",
    "import pickle\n",
    "import pandas as pd\n",
    "import warnings\n",
    "warnings.filterwarnings('ignore')"
   ]
  },
  {
   "cell_type": "code",
   "execution_count": 12,
   "id": "2cabb4a4-4b3d-4d5c-8004-afce94b52b38",
   "metadata": {},
   "outputs": [],
   "source": [
    "model= pickle.load(open('logm_pkl','rb'))"
   ]
  },
  {
   "cell_type": "code",
   "execution_count": 14,
   "id": "4325c159-be41-4460-8924-a17914339ede",
   "metadata": {},
   "outputs": [
    {
     "data": {
      "text/plain": [
       "DeltaGenerator()"
      ]
     },
     "execution_count": 14,
     "metadata": {},
     "output_type": "execute_result"
    }
   ],
   "source": [
    "st.title('Model Deployment using Logistic Regression')"
   ]
  },
  {
   "cell_type": "code",
   "execution_count": 16,
   "id": "9d3635a8-c877-4ad4-9564-e0bf8dd52615",
   "metadata": {},
   "outputs": [],
   "source": [
    "st.title(\"Prediction on Titanic Data\")\n",
    "\n",
    "# Option for the user to choose between CSV upload or manual input\n",
    "input_option = st.selectbox(\"How would you like to input the data?\", (\"Upload CSV\", \"Manual Input\"))\n",
    "\n",
    "if input_option == \"Upload CSV\":\n",
    "    # Upload CSV file containing df_test\n",
    "    uploaded_file = st.file_uploader(\"Upload your CSV file containing the test data\", type=[\"csv\"])\n",
    "\n",
    "    if uploaded_file is not None:\n",
    "        # Load the uploaded CSV file\n",
    "        df_test = pd.read_csv(uploaded_file)\n",
    "        \n",
    "        # Define the required features\n",
    "        required_features = ['Pclass', 'Age', 'SibSp', 'Parch', 'Female', 'Male', 'Embarked_C', 'Embarked_S', 'Embarked_Q']\n",
    "        \n",
    "        # Check if df_test contains all the required features\n",
    "        if all(feature in df_test.columns for feature in required_features):\n",
    "            df = df_test[required_features]  # Keep only the necessary features\n",
    "            \n",
    "            st.subheader('Uploaded Test Data')\n",
    "            st.write(df)\n",
    "\n",
    "            # Assuming 'model' is already defined and trained\n",
    "            pred_prob = model.predict_proba(df)\n",
    "            pred = model.predict(df)\n",
    "\n",
    "            # Display the predicted class\n",
    "            st.subheader('Predicted')\n",
    "            st.write('Yes' if pred_prob[0][1] > 0.5 else 'No')\n",
    "\n",
    "            # Display the prediction probabilities\n",
    "            st.subheader('Prediction Probabilities')\n",
    "            st.write(pred_prob)\n",
    "        else:\n",
    "            st.error(\"The uploaded file does not contain the required features.\")\n",
    "    else:\n",
    "        st.info(\"Please upload a CSV file to proceed.\")\n",
    "        \n",
    "elif input_option == \"Manual Input\":\n",
    "    st.subheader(\"Enter the Features Manually\")\n",
    "\n",
    "    # Manual input fields for each feature\n",
    "    Pclass = st.selectbox('Pclass (Ticket Class)', [1, 2, 3])\n",
    "    Age = st.number_input('Age', min_value=0, max_value=100, step=1)\n",
    "    SibSp = st.number_input('Number of Siblings/Spouses Aboard', min_value=0, max_value=10, step=1)\n",
    "    Parch = st.number_input('Number of Parents/Children Aboard', min_value=0, max_value=10, step=1)\n",
    "    gender = st.selectbox('Gender', ['Female', 'Male'])\n",
    "    Female = 1 if gender == 'Female' else 0\n",
    "    Male = 1 if gender == 'Male' else 0\n",
    "    Embarked = st.selectbox('Port of Embarkation', ['C', 'S', 'Q'])\n",
    "    Embarked_C = 1 if Embarked == 'C' else 0\n",
    "    Embarked_S = 1 if Embarked == 'S' else 0\n",
    "    Embarked_Q = 1 if Embarked == 'Q' else 0\n",
    "\n",
    "    # Create a DataFrame from the manual input\n",
    "    input_data = {\n",
    "        'Pclass': [Pclass],\n",
    "        'Age': [Age],\n",
    "        'SibSp': [SibSp],\n",
    "        'Parch': [Parch],\n",
    "        'Female': [Female],\n",
    "        'Male': [Male],\n",
    "        'Embarked_C': [Embarked_C],\n",
    "        'Embarked_S': [Embarked_S],\n",
    "        'Embarked_Q': [Embarked_Q]\n",
    "    }\n",
    "    \n",
    "    df_manual = pd.DataFrame(input_data)\n",
    "    st.subheader('Manual Input Data')\n",
    "    st.write(df_manual)\n",
    "\n",
    "    # Assuming 'model' is already defined and trained\n",
    "    pred_prob = model.predict_proba(df_manual)\n",
    "    pred = model.predict(df_manual)\n",
    "\n",
    "    # Display the predicted class\n",
    "    st.subheader('Predicted')\n",
    "    st.write('Yes' if pred_prob[0][1] > 0.5 else 'No')\n",
    "\n",
    "    # Display the prediction probabilities\n",
    "    st.subheader('Prediction Probabilities')\n",
    "    st.write(pred_prob)"
   ]
  },
  {
   "cell_type": "code",
   "execution_count": null,
   "id": "428e7a47-3dc1-4b28-a876-1756b78ea032",
   "metadata": {},
   "outputs": [],
   "source": []
  }
 ],
 "metadata": {
  "kernelspec": {
   "display_name": "Python 3 (ipykernel)",
   "language": "python",
   "name": "python3"
  },
  "language_info": {
   "codemirror_mode": {
    "name": "ipython",
    "version": 3
   },
   "file_extension": ".py",
   "mimetype": "text/x-python",
   "name": "python",
   "nbconvert_exporter": "python",
   "pygments_lexer": "ipython3",
   "version": "3.11.7"
  }
 },
 "nbformat": 4,
 "nbformat_minor": 5
}
